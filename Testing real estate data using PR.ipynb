{
 "cells": [
  {
   "cell_type": "code",
   "execution_count": 3,
   "id": "7872eb02",
   "metadata": {},
   "outputs": [],
   "source": [
    "import numpy as np\n",
    "from sklearn.linear_model import LinearRegression\n",
    "from sklearn.preprocessing import PolynomialFeatures\n",
    "from sklearn import datasets\n",
    "\n",
    "# get dataset\n",
    "x, y= datasets.fetch_california_housing(return_X_y=True, as_frame=True) \n",
    "\n",
    "# only the two features AveRooms and AveBedrms will be used\n",
    "x = x.drop(['MedInc', 'HouseAge', 'Population', 'AveOccup', 'Latitude', 'Longitude'], axis=1)"
   ]
  },
  {
   "cell_type": "code",
   "execution_count": 4,
   "id": "badd04d8",
   "metadata": {},
   "outputs": [
    {
     "data": {
      "text/plain": [
       "PolynomialFeatures(include_bias=False)"
      ]
     },
     "execution_count": 4,
     "metadata": {},
     "output_type": "execute_result"
    }
   ],
   "source": [
    "transformer = PolynomialFeatures(degree=2, include_bias=False)\n",
    "\n",
    "transformer.fit(x)"
   ]
  },
  {
   "cell_type": "code",
   "execution_count": 5,
   "id": "479ae745",
   "metadata": {},
   "outputs": [],
   "source": [
    "x_ = transformer.transform(x)"
   ]
  },
  {
   "cell_type": "code",
   "execution_count": 6,
   "id": "1e84898d",
   "metadata": {},
   "outputs": [
    {
     "data": {
      "text/plain": [
       "array([[ 6.98412698,  1.02380952, 48.77802973,  7.15041572,  1.04818594],\n",
       "       [ 6.23813708,  0.97188049, 38.91435426,  6.06272374,  0.94455169],\n",
       "       [ 8.28813559,  1.07344633, 68.69319161,  8.89686872,  1.15228702],\n",
       "       ...,\n",
       "       [ 5.20554273,  1.12009238, 27.09767506,  5.83068873,  1.25460694],\n",
       "       [ 5.32951289,  1.17191977, 28.40370769,  6.24576153,  1.37339595],\n",
       "       [ 5.25471698,  1.16226415, 27.61205055,  6.10736917,  1.35085796]])"
      ]
     },
     "execution_count": 6,
     "metadata": {},
     "output_type": "execute_result"
    }
   ],
   "source": [
    "x_ = PolynomialFeatures(degree=2, include_bias=False).fit_transform(x)\n",
    "x_"
   ]
  },
  {
   "cell_type": "code",
   "execution_count": 7,
   "id": "4cf5571f",
   "metadata": {},
   "outputs": [],
   "source": [
    "# create a model and fit it\n",
    "model = LinearRegression().fit(x_, y)"
   ]
  },
  {
   "cell_type": "code",
   "execution_count": 8,
   "id": "6d26fd5d",
   "metadata": {},
   "outputs": [
    {
     "name": "stdout",
     "output_type": "stream",
     "text": [
      "coefficient of determination: 0.17386617785570613\n",
      "intercept: 2.1142168488930047\n",
      "coefficients: [ 0.29192353 -1.53915683  0.05805747 -0.55514934  1.29467909]\n"
     ]
    }
   ],
   "source": [
    "# get results\n",
    "r_square = model.score(x_, y)\n",
    "print('coefficient of determination:', r_square)\n",
    "\n",
    "print('intercept:', model.intercept_)\n",
    "\n",
    "print('coefficients:', model.coef_)"
   ]
  },
  {
   "cell_type": "code",
   "execution_count": 9,
   "id": "df583ac7",
   "metadata": {},
   "outputs": [
    {
     "name": "stdout",
     "output_type": "stream",
     "text": [
      "predicted response: [2.79668937 2.55584262 3.42242055 ... 1.87047229 1.82608283 1.820797  ]\n"
     ]
    }
   ],
   "source": [
    "# predict response\n",
    "\n",
    "y_pred = model.predict(x_)\n",
    "print('predicted response:', y_pred)"
   ]
  }
 ],
 "metadata": {
  "kernelspec": {
   "display_name": "Python 3 (ipykernel)",
   "language": "python",
   "name": "python3"
  },
  "language_info": {
   "codemirror_mode": {
    "name": "ipython",
    "version": 3
   },
   "file_extension": ".py",
   "mimetype": "text/x-python",
   "name": "python",
   "nbconvert_exporter": "python",
   "pygments_lexer": "ipython3",
   "version": "3.9.7"
  }
 },
 "nbformat": 4,
 "nbformat_minor": 5
}
